{
 "cells": [
  {
   "cell_type": "markdown",
   "metadata": {},
   "source": [
    "과제1. hw5-1\n",
    "https://www.kaggle.com/yunbyeongseo/hw5-1"
   ]
  },
  {
   "cell_type": "markdown",
   "metadata": {},
   "source": [
    "과제2. hw5-2 https://www.kaggle.com/yunbyeong/hw5-2\n",
    "계정이 다른 이유는 캐글에서 submission을 너무 많이해서 하루 동안 제안된 상태이기 때문에 최근에 작성한것중 점수가 가장 높은것을 복사해서 새 계정을 다시 파서 제출한 것입니다. "
   ]
  },
  {
   "cell_type": "code",
   "execution_count": null,
   "metadata": {},
   "outputs": [],
   "source": []
  }
 ],
 "metadata": {
  "kernelspec": {
   "display_name": "Python 3",
   "language": "python",
   "name": "python3"
  },
  "language_info": {
   "codemirror_mode": {
    "name": "ipython",
    "version": 3
   },
   "file_extension": ".py",
   "mimetype": "text/x-python",
   "name": "python",
   "nbconvert_exporter": "python",
   "pygments_lexer": "ipython3",
   "version": "3.7.6"
  }
 },
 "nbformat": 4,
 "nbformat_minor": 4
}
